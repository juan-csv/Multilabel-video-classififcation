{
 "cells": [
  {
   "attachments": {},
   "cell_type": "markdown",
   "metadata": {},
   "source": [
    "[Info dataset Youtube8M](https://www.kaggle.com/competitions/youtube8m-2019)\n",
    "\n",
    "**frame-level data** <br>\n",
    "You may download to your local computer with instructions here\n",
    "Total size of 1.53TB (Large file warning!)\n",
    "Each video has:\n",
    "\n",
    "- id: unique id for the video, in train set it is a YouTube video id, and in test/validation they are anonymized.\n",
    "- labels: list of labels of that video.\n",
    "- Each frame has rgb: float array of length 1024,\n",
    "- Each frame has audio: float array of length 128\n",
    "\n",
    "\n",
    "Files are in TFRecords format, TensorFlow python readers are available in the github repo.\n",
    "frame-sample.zip - a sample of frame-level data including train00 and train01\n",
    "\n",
    "validate-sample.zip - a sample of validation set data including validate00 and validate01\n",
    "\n",
    "vocabulary.csv - the full data dictionary for label names and their descriptions\n",
    "\n",
    "sample_submission.csv - a sample submission file in the correct format\n"
   ]
  },
  {
   "cell_type": "code",
   "execution_count": 1,
   "metadata": {},
   "outputs": [],
   "source": [
    "import os\n",
    "import sys\n",
    "import numpy as np\n",
    "import pandas as pd\n",
    "from pathlib import Path\n",
    "import tensorflow.compat.v1 as tf\n",
    "\n",
    "# add root path\n",
    "PATH_ROOT = Path.cwd()\n",
    "for _ in range(6):\n",
    "    last_files = os.listdir(PATH_ROOT)\n",
    "    if 'src' in last_files:\n",
    "        break\n",
    "    else:\n",
    "        PATH_ROOT = PATH_ROOT.parent\n",
    "sys.path.append(PATH_ROOT.__str__())\n",
    "\n",
    "# Local imports\n",
    "from utils.utils import Map_index2label"
   ]
  },
  {
   "attachments": {},
   "cell_type": "markdown",
   "metadata": {},
   "source": [
    "#### Note: \n",
    "only the validation data contains the segment start and times and segment labels"
   ]
  },
  {
   "cell_type": "code",
   "execution_count": 50,
   "metadata": {},
   "outputs": [],
   "source": [
    "# Define path data\n",
    "FOLDER_DATA = Path('../data/raw/yt8m_2nd')\n",
    "\n",
    "PATH_VOCABULARY = FOLDER_DATA / 'vocabulary.csv'\n",
    "\n",
    "PATH_LABELS_NAMES = FOLDER_DATA / 'label_names_2018.csv'\n",
    "\n",
    "# Features for frame level\n",
    "PATH_TF_TRAIN_FRAME_LEVEL_00 = (FOLDER_DATA / 'frame_sample' / 'train00.tfrecord').__str__()\n",
    "PATH_TF_TRAIN_FRAME_LEVEL_01 = (FOLDER_DATA / 'frame_sample' / 'train01.tfrecord').__str__()\n",
    "\n",
    "# Features for video level\n",
    "PATH_TF_TRAIN_VIDEO_LEVEL_00 = (FOLDER_DATA / 'video_sample' / 'train00.tfrecord').__str__()\n",
    "PATH_TF_TRAIN_VIDEO_LEVEL_01 = (FOLDER_DATA / 'video_sample' / 'train01.tfrecord').__str__()\n"
   ]
  },
  {
   "cell_type": "code",
   "execution_count": 51,
   "metadata": {},
   "outputs": [
    {
     "name": "stdout",
     "output_type": "stream",
     "text": [
      "Number of videos in train00.tfrecord:       1015\n",
      "Number of videos in train01.tfrecord:       1041\n",
      "Number of videos in train00.tfrecord:       1015\n",
      "Number of videos in train01.tfrecord:       1041\n"
     ]
    }
   ],
   "source": [
    "get_label_videos = lambda x: [tf.train.Example.FromString(example).features.feature['labels'].int64_list.value for example in tf.python_io.tf_record_iterator(x)]\n",
    "\n",
    "print(f\"Number of videos in train00.tfrecord:       {len(get_label_videos(PATH_TF_TRAIN_FRAME_LEVEL_00))}\")\n",
    "print(f\"Number of videos in train01.tfrecord:       {len(get_label_videos(PATH_TF_TRAIN_FRAME_LEVEL_01))}\")\n",
    "print(f\"Number of videos in train00.tfrecord:       {len(get_label_videos(PATH_TF_TRAIN_VIDEO_LEVEL_00))}\")\n",
    "print(f\"Number of videos in train01.tfrecord:       {len(get_label_videos(PATH_TF_TRAIN_VIDEO_LEVEL_01))}\")"
   ]
  },
  {
   "attachments": {},
   "cell_type": "markdown",
   "metadata": {},
   "source": [
    "## Explore tfrecord\n",
    "    * labels(list): target, # list of index   \n",
    "    * id(str): video id\n",
    "    * audio_embedding_numpy(array): audio embedding for the first frame, shape: (128,) | min: 0 , max: 255\n",
    "    * rgb_embedding_numpy(array): rgb embedding for the first frame, shape: (1024,) | min: 0 , max: 255\n",
    "    \n",
    "    only for video feature data:\n",
    "    * mean_audio_embedding_numpy(array): audio embedding for the first frame, shape: (128,) | min: 0 , max: 255\n",
    "    * mean_rgb_embedding_numpy(array): rgb embedding for the first frame, shape: (1024,) | min: 0 , max: 255"
   ]
  },
  {
   "cell_type": "code",
   "execution_count": 75,
   "metadata": {},
   "outputs": [
    {
     "name": "stdout",
     "output_type": "stream",
     "text": [
      "Get data from 1st video (../data/raw/yt8m_2nd/video_sample/train00.tfrecord):\n",
      "------------------------------------\n",
      "ID VIDEO:                       4M00\n",
      "Number of frames:               0\n",
      "Label index video:              [26, 466]\n",
      "Names labels:                   ['Toy', 'Littlest Pet Shop']\n",
      "Shape video embedding:          (1024,)\n",
      "Shape audio embedding:          (128,)\n",
      "Shape mean video embedding:     (1024,)\n",
      "Shape mean adio embedding:      (128,)\n",
      "\n",
      "\n",
      "Get data from 1st video (../data/raw/yt8m_2nd/frame_sample/train00.tfrecord):\n",
      "------------------------------------\n",
      "ID VIDEO:                       op00\n",
      "Number of frames:               234\n",
      "Label index video:              [82, 103, 346, 350]\n",
      "Names labels:                   ['Winter sport', 'Ice skating', 'Ice dancing', 'Figure skating']\n",
      "Shape video embedding:          (1024,)\n",
      "Shape audio embedding:          (128,)\n",
      "Shape mean video embedding:     (0,)\n",
      "Shape mean adio embedding:      (0,)\n",
      "\n",
      "\n"
     ]
    }
   ],
   "source": [
    "# define function transform bytes 2 array\n",
    "f_bytes2array = lambda x: tf.cast(tf.decode_raw( x.bytes_list.value[0], tf.uint8), tf.float32).numpy()\n",
    "# instance mapping inde 2 labels\n",
    "map_index2label = Map_index2label(PATH_VOCABULARY)\n",
    "\n",
    "def get_info_1st_video(PATH_TF):\n",
    "    \"\"\" Explore tfrecord for the first video\n",
    "    Args:\n",
    "        PATH_TF (str): path of tfrecord\n",
    "\n",
    "    Features:\n",
    "        labels(list): target, # list of index   \n",
    "        id(str): video id\n",
    "        audio_embedding_numpy(array): audio embedding for the first frame, shape: (128,)\n",
    "        rgb_embedding_numpy(array): rgb embedding for the first frame, shape: (1024,)\n",
    "        \n",
    "        only for validation data:\n",
    "        mean_audio_embedding_numpy(array): audio embedding for the first frame, shape: (128,)\n",
    "        mean_rgb_embedding_numpy(array): rgb embedding for the first frame, shape: (1024,)\n",
    "    \"\"\"\n",
    "    for example in tf.python_io.tf_record_iterator(PATH_TF):\n",
    "        # get data for the video \n",
    "        tf_example = tf.train.SequenceExample.FromString(example)\n",
    "        \n",
    "        # Only for video level feature\n",
    "        mean_audio_embedding_numpy = np.array(tf_example.context.feature['mean_audio'].float_list.value)    # shape: (128,)\n",
    "        mean_rgb_embedding_numpy = np.array(tf_example.context.feature['mean_rgb'].float_list.value)      # shape: (1024,)\n",
    "\n",
    "        # get index labels for the video\n",
    "        labels =  tf_example.context.feature['labels'].int64_list.value # list of index\n",
    "\n",
    "        # get id video\n",
    "        id = tf_example.context.feature['id'].bytes_list.value[0].decode(encoding='UTF-8') # str\n",
    "        \n",
    "        # get  audio and rgb embeddings\n",
    "        audio_embedding_bytes =  tf_example.feature_lists.feature_list['audio'].feature # len() # number of frames\n",
    "        rgb_embedding_bytes =  tf_example.feature_lists.feature_list['rgb'].feature     # len() # number of frames\n",
    "\n",
    "        # get number of frames of video\n",
    "        N_FRAMES_VIDEO = len(audio_embedding_bytes)\n",
    "\n",
    "        # only take the embedding for the first frame\n",
    "        if len(audio_embedding_bytes) == 0:\n",
    "            audio_embedding_numpy = mean_audio_embedding_numpy\n",
    "            rgb_embedding_numpy = mean_rgb_embedding_numpy\n",
    "        else:\n",
    "            audio_embedding_numpy = f_bytes2array( audio_embedding_bytes[0] ) # shape: (128,)\n",
    "            rgb_embedding_numpy = f_bytes2array( rgb_embedding_bytes[0] ) # shape: (1024,)\n",
    "        \n",
    "        break # just for exploring the data of the first video\n",
    "\n",
    "    print(f\"Get data from 1st video ({PATH_TF}):\\n------------------------------------\")\n",
    "    print(f\"ID VIDEO:                       {id}\")\n",
    "    print(f\"Number of frames:               {N_FRAMES_VIDEO}\")\n",
    "    print(f\"Label index video:              {labels}\")\n",
    "    print(f\"Names labels:                   {[map_index2label(index) for index in labels]}\")\n",
    "    print(f\"Shape video embedding:          {rgb_embedding_numpy.shape}\")\n",
    "    print(f\"Shape audio embedding:          {audio_embedding_numpy.shape}\")\n",
    "    print(f\"Shape mean video embedding:     {mean_rgb_embedding_numpy.shape}\")\n",
    "    print(f\"Shape mean adio embedding:      {mean_audio_embedding_numpy.shape}\")\n",
    "    print('\\n')\n",
    "\n",
    "get_info_1st_video(PATH_TF_TRAIN_VIDEO_LEVEL_00)\n",
    "get_info_1st_video(PATH_TF_TRAIN_FRAME_LEVEL_00)"
   ]
  },
  {
   "attachments": {},
   "cell_type": "markdown",
   "metadata": {},
   "source": [
    "# Label names"
   ]
  },
  {
   "cell_type": "code",
   "execution_count": 124,
   "metadata": {},
   "outputs": [
    {
     "data": {
      "text/html": [
       "<div>\n",
       "<style scoped>\n",
       "    .dataframe tbody tr th:only-of-type {\n",
       "        vertical-align: middle;\n",
       "    }\n",
       "\n",
       "    .dataframe tbody tr th {\n",
       "        vertical-align: top;\n",
       "    }\n",
       "\n",
       "    .dataframe thead th {\n",
       "        text-align: right;\n",
       "    }\n",
       "</style>\n",
       "<table border=\"1\" class=\"dataframe\">\n",
       "  <thead>\n",
       "    <tr style=\"text-align: right;\">\n",
       "      <th></th>\n",
       "      <th>label_id</th>\n",
       "      <th>label_name</th>\n",
       "    </tr>\n",
       "  </thead>\n",
       "  <tbody>\n",
       "    <tr>\n",
       "      <th>0</th>\n",
       "      <td>0</td>\n",
       "      <td>Game</td>\n",
       "    </tr>\n",
       "    <tr>\n",
       "      <th>1</th>\n",
       "      <td>1</td>\n",
       "      <td>Vehicle</td>\n",
       "    </tr>\n",
       "    <tr>\n",
       "      <th>2</th>\n",
       "      <td>2</td>\n",
       "      <td>Video game</td>\n",
       "    </tr>\n",
       "    <tr>\n",
       "      <th>3</th>\n",
       "      <td>3</td>\n",
       "      <td>Concert</td>\n",
       "    </tr>\n",
       "    <tr>\n",
       "      <th>4</th>\n",
       "      <td>4</td>\n",
       "      <td>Car</td>\n",
       "    </tr>\n",
       "  </tbody>\n",
       "</table>\n",
       "</div>"
      ],
      "text/plain": [
       "   label_id  label_name\n",
       "0         0        Game\n",
       "1         1     Vehicle\n",
       "2         2  Video game\n",
       "3         3     Concert\n",
       "4         4         Car"
      ]
     },
     "execution_count": 124,
     "metadata": {},
     "output_type": "execute_result"
    }
   ],
   "source": [
    "df_labels2index = pd.read_csv( PATH_LABELS_NAMES )\n",
    "label_mapping = pd.read_csv(PATH_LABELS_NAMES,header=0,index_col=0,squeeze=True).T.to_dict()\n",
    "df_labels2index.head()"
   ]
  },
  {
   "attachments": {},
   "cell_type": "markdown",
   "metadata": {},
   "source": [
    "# Vocabulary"
   ]
  },
  {
   "cell_type": "code",
   "execution_count": 93,
   "metadata": {},
   "outputs": [
    {
     "name": "stdout",
     "output_type": "stream",
     "text": [
      "(3862, 9)\n"
     ]
    },
    {
     "data": {
      "text/html": [
       "<div>\n",
       "<style scoped>\n",
       "    .dataframe tbody tr th:only-of-type {\n",
       "        vertical-align: middle;\n",
       "    }\n",
       "\n",
       "    .dataframe tbody tr th {\n",
       "        vertical-align: top;\n",
       "    }\n",
       "\n",
       "    .dataframe thead th {\n",
       "        text-align: right;\n",
       "    }\n",
       "</style>\n",
       "<table border=\"1\" class=\"dataframe\">\n",
       "  <thead>\n",
       "    <tr style=\"text-align: right;\">\n",
       "      <th></th>\n",
       "      <th>Index</th>\n",
       "      <th>TrainVideoCount</th>\n",
       "      <th>KnowledgeGraphId</th>\n",
       "      <th>Name</th>\n",
       "      <th>WikiUrl</th>\n",
       "      <th>Vertical1</th>\n",
       "      <th>Vertical2</th>\n",
       "      <th>Vertical3</th>\n",
       "      <th>WikiDescription</th>\n",
       "    </tr>\n",
       "  </thead>\n",
       "  <tbody>\n",
       "    <tr>\n",
       "      <th>0</th>\n",
       "      <td>0</td>\n",
       "      <td>788288</td>\n",
       "      <td>/m/03bt1gh</td>\n",
       "      <td>Game</td>\n",
       "      <td>https://en.wikipedia.org/wiki/Game</td>\n",
       "      <td>Games</td>\n",
       "      <td>NaN</td>\n",
       "      <td>NaN</td>\n",
       "      <td>A game is structured form of play, usually und...</td>\n",
       "    </tr>\n",
       "    <tr>\n",
       "      <th>1</th>\n",
       "      <td>1</td>\n",
       "      <td>539945</td>\n",
       "      <td>/m/01mw1</td>\n",
       "      <td>Video game</td>\n",
       "      <td>https://en.wikipedia.org/wiki/Video_game</td>\n",
       "      <td>Games</td>\n",
       "      <td>NaN</td>\n",
       "      <td>NaN</td>\n",
       "      <td>A video game is an electronic game that involv...</td>\n",
       "    </tr>\n",
       "    <tr>\n",
       "      <th>2</th>\n",
       "      <td>2</td>\n",
       "      <td>415890</td>\n",
       "      <td>/m/07yv9</td>\n",
       "      <td>Vehicle</td>\n",
       "      <td>https://en.wikipedia.org/wiki/Vehicle</td>\n",
       "      <td>Autos &amp; Vehicles</td>\n",
       "      <td>NaN</td>\n",
       "      <td>NaN</td>\n",
       "      <td>A vehicle is a mobile machine that transports ...</td>\n",
       "    </tr>\n",
       "    <tr>\n",
       "      <th>3</th>\n",
       "      <td>3</td>\n",
       "      <td>378135</td>\n",
       "      <td>/m/01jddz</td>\n",
       "      <td>Concert</td>\n",
       "      <td>https://en.wikipedia.org/wiki/Concert</td>\n",
       "      <td>Arts &amp; Entertainment</td>\n",
       "      <td>NaN</td>\n",
       "      <td>NaN</td>\n",
       "      <td>A concert is a live music performance in front...</td>\n",
       "    </tr>\n",
       "    <tr>\n",
       "      <th>4</th>\n",
       "      <td>4</td>\n",
       "      <td>286532</td>\n",
       "      <td>/m/09jwl</td>\n",
       "      <td>Musician</td>\n",
       "      <td>https://en.wikipedia.org/wiki/Musician</td>\n",
       "      <td>Arts &amp; Entertainment</td>\n",
       "      <td>NaN</td>\n",
       "      <td>NaN</td>\n",
       "      <td>A musician is a person who plays a musical ins...</td>\n",
       "    </tr>\n",
       "  </tbody>\n",
       "</table>\n",
       "</div>"
      ],
      "text/plain": [
       "   Index  TrainVideoCount KnowledgeGraphId        Name  \\\n",
       "0      0           788288       /m/03bt1gh        Game   \n",
       "1      1           539945         /m/01mw1  Video game   \n",
       "2      2           415890         /m/07yv9     Vehicle   \n",
       "3      3           378135        /m/01jddz     Concert   \n",
       "4      4           286532         /m/09jwl    Musician   \n",
       "\n",
       "                                    WikiUrl             Vertical1 Vertical2  \\\n",
       "0        https://en.wikipedia.org/wiki/Game                 Games       NaN   \n",
       "1  https://en.wikipedia.org/wiki/Video_game                 Games       NaN   \n",
       "2     https://en.wikipedia.org/wiki/Vehicle      Autos & Vehicles       NaN   \n",
       "3     https://en.wikipedia.org/wiki/Concert  Arts & Entertainment       NaN   \n",
       "4    https://en.wikipedia.org/wiki/Musician  Arts & Entertainment       NaN   \n",
       "\n",
       "  Vertical3                                    WikiDescription  \n",
       "0       NaN  A game is structured form of play, usually und...  \n",
       "1       NaN  A video game is an electronic game that involv...  \n",
       "2       NaN  A vehicle is a mobile machine that transports ...  \n",
       "3       NaN  A concert is a live music performance in front...  \n",
       "4       NaN  A musician is a person who plays a musical ins...  "
      ]
     },
     "execution_count": 93,
     "metadata": {},
     "output_type": "execute_result"
    }
   ],
   "source": [
    "vocabulary_df = pd.read_csv(PATH_VOCABULARY)\n",
    "print(vocabulary_df.shape)\n",
    "vocabulary_df.head()"
   ]
  },
  {
   "cell_type": "code",
   "execution_count": 77,
   "metadata": {},
   "outputs": [
    {
     "name": "stdout",
     "output_type": "stream",
     "text": [
      "Number of classes:                      3862\n",
      "Number of classes verticals:            62\n",
      "Number of unique classes + verticals:   3888\n"
     ]
    }
   ],
   "source": [
    "unique_class = vocabulary_df['Index'].unique()\n",
    "unique_vertiacal1 = vocabulary_df['Vertical1'].unique()\n",
    "unique_vertiacal2 = vocabulary_df['Vertical2'].unique()\n",
    "unique_vertiacal3 = vocabulary_df['Vertical3'].unique()\n",
    "\n",
    "classes_verticals = list(unique_vertiacal1) + list(unique_vertiacal2) + list(unique_vertiacal3)\n",
    "total_clases = np.unique(classes_verticals + list(unique_class))\n",
    "N_CLASSES = len( unique_class )\n",
    "N_CLASSES_VERTICAL = len( classes_verticals )\n",
    "print(f\"Number of classes:                      {N_CLASSES}\")\n",
    "print(f\"Number of classes verticals:            {N_CLASSES_VERTICAL}\") # some verticals classes are in CLASESS\n",
    "print(f\"Number of unique classes + verticals:   {len(total_clases)}\")"
   ]
  },
  {
   "cell_type": "code",
   "execution_count": 94,
   "metadata": {},
   "outputs": [
    {
     "name": "stdout",
     "output_type": "stream",
     "text": [
      "<class 'pandas.core.frame.DataFrame'>\n",
      "RangeIndex: 3862 entries, 0 to 3861\n",
      "Data columns (total 9 columns):\n",
      " #   Column            Non-Null Count  Dtype \n",
      "---  ------            --------------  ----- \n",
      " 0   Index             3862 non-null   int64 \n",
      " 1   TrainVideoCount   3862 non-null   int64 \n",
      " 2   KnowledgeGraphId  3862 non-null   object\n",
      " 3   Name              3806 non-null   object\n",
      " 4   WikiUrl           3806 non-null   object\n",
      " 5   Vertical1         3862 non-null   object\n",
      " 6   Vertical2         584 non-null    object\n",
      " 7   Vertical3         32 non-null     object\n",
      " 8   WikiDescription   3806 non-null   object\n",
      "dtypes: int64(2), object(7)\n",
      "memory usage: 271.7+ KB\n"
     ]
    }
   ],
   "source": [
    "vocabulary_df\n",
    "vocabulary_df.info()"
   ]
  },
  {
   "attachments": {},
   "cell_type": "markdown",
   "metadata": {},
   "source": [
    "# Explore categories\n",
    "## top 30 categories"
   ]
  },
  {
   "cell_type": "code",
   "execution_count": 127,
   "metadata": {},
   "outputs": [
    {
     "name": "stdout",
     "output_type": "stream",
     "text": [
      "Most 10 frequent categories:\n",
      " ['Game', 'Video game', 'Vehicle', 'Concert', 'Musician', 'Cartoon', 'Car', 'Performance art', 'Association football', 'Musical ensemble']\n"
     ]
    }
   ],
   "source": [
    "# Get top n classes\n",
    "from collections import Counter\n",
    "label_mapping = vocabulary_df[['Index', 'Name']].set_index('Index', drop=True).to_dict()['Name'] # dict: key --> index,  values --> name of category | len(): number of categories\n",
    "\n",
    "n = 10\n",
    "labels = get_label_videos(PATH_TF_TRAIN_VIDEO_LEVEL_00)\n",
    "top_n = Counter([item for sublist in labels for item in sublist]).most_common(n) # tuple --> (index, num_samples)\n",
    "top_n_labels = [int(i[0]) for i in top_n]   # list: top n index \n",
    "top_n_label_names = [label_mapping[x] for x in top_n_labels if x in label_mapping] # filter out the labels that aren't in the 1,000 used for this competition\n",
    "\n",
    "print(f\"Most {n} frequent categories:\\n\",top_n_label_names)"
   ]
  },
  {
   "attachments": {},
   "cell_type": "markdown",
   "metadata": {},
   "source": [
    "# Distribution of classes"
   ]
  },
  {
   "cell_type": "code",
   "execution_count": 140,
   "metadata": {},
   "outputs": [
    {
     "data": {
      "application/vnd.plotly.v1+json": {
       "config": {
        "plotlyServerURL": "https://plot.ly"
       },
       "data": [
        {
         "type": "bar",
         "x": [
          "Game",
          "Video game",
          "Vehicle",
          "Concert",
          "Musician",
          "Cartoon",
          "Car",
          "Performance art",
          "Association football",
          "Musical ensemble"
         ],
         "y": [
          788288,
          539945,
          415890,
          378135,
          286532,
          236948,
          200813,
          203343,
          130835,
          125668
         ]
        }
       ],
       "layout": {
        "template": {
         "data": {
          "bar": [
           {
            "error_x": {
             "color": "#2a3f5f"
            },
            "error_y": {
             "color": "#2a3f5f"
            },
            "marker": {
             "line": {
              "color": "#E5ECF6",
              "width": 0.5
             }
            },
            "type": "bar"
           }
          ],
          "barpolar": [
           {
            "marker": {
             "line": {
              "color": "#E5ECF6",
              "width": 0.5
             }
            },
            "type": "barpolar"
           }
          ],
          "carpet": [
           {
            "aaxis": {
             "endlinecolor": "#2a3f5f",
             "gridcolor": "white",
             "linecolor": "white",
             "minorgridcolor": "white",
             "startlinecolor": "#2a3f5f"
            },
            "baxis": {
             "endlinecolor": "#2a3f5f",
             "gridcolor": "white",
             "linecolor": "white",
             "minorgridcolor": "white",
             "startlinecolor": "#2a3f5f"
            },
            "type": "carpet"
           }
          ],
          "choropleth": [
           {
            "colorbar": {
             "outlinewidth": 0,
             "ticks": ""
            },
            "type": "choropleth"
           }
          ],
          "contour": [
           {
            "colorbar": {
             "outlinewidth": 0,
             "ticks": ""
            },
            "colorscale": [
             [
              0,
              "#0d0887"
             ],
             [
              0.1111111111111111,
              "#46039f"
             ],
             [
              0.2222222222222222,
              "#7201a8"
             ],
             [
              0.3333333333333333,
              "#9c179e"
             ],
             [
              0.4444444444444444,
              "#bd3786"
             ],
             [
              0.5555555555555556,
              "#d8576b"
             ],
             [
              0.6666666666666666,
              "#ed7953"
             ],
             [
              0.7777777777777778,
              "#fb9f3a"
             ],
             [
              0.8888888888888888,
              "#fdca26"
             ],
             [
              1,
              "#f0f921"
             ]
            ],
            "type": "contour"
           }
          ],
          "contourcarpet": [
           {
            "colorbar": {
             "outlinewidth": 0,
             "ticks": ""
            },
            "type": "contourcarpet"
           }
          ],
          "heatmap": [
           {
            "colorbar": {
             "outlinewidth": 0,
             "ticks": ""
            },
            "colorscale": [
             [
              0,
              "#0d0887"
             ],
             [
              0.1111111111111111,
              "#46039f"
             ],
             [
              0.2222222222222222,
              "#7201a8"
             ],
             [
              0.3333333333333333,
              "#9c179e"
             ],
             [
              0.4444444444444444,
              "#bd3786"
             ],
             [
              0.5555555555555556,
              "#d8576b"
             ],
             [
              0.6666666666666666,
              "#ed7953"
             ],
             [
              0.7777777777777778,
              "#fb9f3a"
             ],
             [
              0.8888888888888888,
              "#fdca26"
             ],
             [
              1,
              "#f0f921"
             ]
            ],
            "type": "heatmap"
           }
          ],
          "heatmapgl": [
           {
            "colorbar": {
             "outlinewidth": 0,
             "ticks": ""
            },
            "colorscale": [
             [
              0,
              "#0d0887"
             ],
             [
              0.1111111111111111,
              "#46039f"
             ],
             [
              0.2222222222222222,
              "#7201a8"
             ],
             [
              0.3333333333333333,
              "#9c179e"
             ],
             [
              0.4444444444444444,
              "#bd3786"
             ],
             [
              0.5555555555555556,
              "#d8576b"
             ],
             [
              0.6666666666666666,
              "#ed7953"
             ],
             [
              0.7777777777777778,
              "#fb9f3a"
             ],
             [
              0.8888888888888888,
              "#fdca26"
             ],
             [
              1,
              "#f0f921"
             ]
            ],
            "type": "heatmapgl"
           }
          ],
          "histogram": [
           {
            "marker": {
             "colorbar": {
              "outlinewidth": 0,
              "ticks": ""
             }
            },
            "type": "histogram"
           }
          ],
          "histogram2d": [
           {
            "colorbar": {
             "outlinewidth": 0,
             "ticks": ""
            },
            "colorscale": [
             [
              0,
              "#0d0887"
             ],
             [
              0.1111111111111111,
              "#46039f"
             ],
             [
              0.2222222222222222,
              "#7201a8"
             ],
             [
              0.3333333333333333,
              "#9c179e"
             ],
             [
              0.4444444444444444,
              "#bd3786"
             ],
             [
              0.5555555555555556,
              "#d8576b"
             ],
             [
              0.6666666666666666,
              "#ed7953"
             ],
             [
              0.7777777777777778,
              "#fb9f3a"
             ],
             [
              0.8888888888888888,
              "#fdca26"
             ],
             [
              1,
              "#f0f921"
             ]
            ],
            "type": "histogram2d"
           }
          ],
          "histogram2dcontour": [
           {
            "colorbar": {
             "outlinewidth": 0,
             "ticks": ""
            },
            "colorscale": [
             [
              0,
              "#0d0887"
             ],
             [
              0.1111111111111111,
              "#46039f"
             ],
             [
              0.2222222222222222,
              "#7201a8"
             ],
             [
              0.3333333333333333,
              "#9c179e"
             ],
             [
              0.4444444444444444,
              "#bd3786"
             ],
             [
              0.5555555555555556,
              "#d8576b"
             ],
             [
              0.6666666666666666,
              "#ed7953"
             ],
             [
              0.7777777777777778,
              "#fb9f3a"
             ],
             [
              0.8888888888888888,
              "#fdca26"
             ],
             [
              1,
              "#f0f921"
             ]
            ],
            "type": "histogram2dcontour"
           }
          ],
          "mesh3d": [
           {
            "colorbar": {
             "outlinewidth": 0,
             "ticks": ""
            },
            "type": "mesh3d"
           }
          ],
          "parcoords": [
           {
            "line": {
             "colorbar": {
              "outlinewidth": 0,
              "ticks": ""
             }
            },
            "type": "parcoords"
           }
          ],
          "pie": [
           {
            "automargin": true,
            "type": "pie"
           }
          ],
          "scatter": [
           {
            "marker": {
             "colorbar": {
              "outlinewidth": 0,
              "ticks": ""
             }
            },
            "type": "scatter"
           }
          ],
          "scatter3d": [
           {
            "line": {
             "colorbar": {
              "outlinewidth": 0,
              "ticks": ""
             }
            },
            "marker": {
             "colorbar": {
              "outlinewidth": 0,
              "ticks": ""
             }
            },
            "type": "scatter3d"
           }
          ],
          "scattercarpet": [
           {
            "marker": {
             "colorbar": {
              "outlinewidth": 0,
              "ticks": ""
             }
            },
            "type": "scattercarpet"
           }
          ],
          "scattergeo": [
           {
            "marker": {
             "colorbar": {
              "outlinewidth": 0,
              "ticks": ""
             }
            },
            "type": "scattergeo"
           }
          ],
          "scattergl": [
           {
            "marker": {
             "colorbar": {
              "outlinewidth": 0,
              "ticks": ""
             }
            },
            "type": "scattergl"
           }
          ],
          "scattermapbox": [
           {
            "marker": {
             "colorbar": {
              "outlinewidth": 0,
              "ticks": ""
             }
            },
            "type": "scattermapbox"
           }
          ],
          "scatterpolar": [
           {
            "marker": {
             "colorbar": {
              "outlinewidth": 0,
              "ticks": ""
             }
            },
            "type": "scatterpolar"
           }
          ],
          "scatterpolargl": [
           {
            "marker": {
             "colorbar": {
              "outlinewidth": 0,
              "ticks": ""
             }
            },
            "type": "scatterpolargl"
           }
          ],
          "scatterternary": [
           {
            "marker": {
             "colorbar": {
              "outlinewidth": 0,
              "ticks": ""
             }
            },
            "type": "scatterternary"
           }
          ],
          "surface": [
           {
            "colorbar": {
             "outlinewidth": 0,
             "ticks": ""
            },
            "colorscale": [
             [
              0,
              "#0d0887"
             ],
             [
              0.1111111111111111,
              "#46039f"
             ],
             [
              0.2222222222222222,
              "#7201a8"
             ],
             [
              0.3333333333333333,
              "#9c179e"
             ],
             [
              0.4444444444444444,
              "#bd3786"
             ],
             [
              0.5555555555555556,
              "#d8576b"
             ],
             [
              0.6666666666666666,
              "#ed7953"
             ],
             [
              0.7777777777777778,
              "#fb9f3a"
             ],
             [
              0.8888888888888888,
              "#fdca26"
             ],
             [
              1,
              "#f0f921"
             ]
            ],
            "type": "surface"
           }
          ],
          "table": [
           {
            "cells": {
             "fill": {
              "color": "#EBF0F8"
             },
             "line": {
              "color": "white"
             }
            },
            "header": {
             "fill": {
              "color": "#C8D4E3"
             },
             "line": {
              "color": "white"
             }
            },
            "type": "table"
           }
          ]
         },
         "layout": {
          "annotationdefaults": {
           "arrowcolor": "#2a3f5f",
           "arrowhead": 0,
           "arrowwidth": 1
          },
          "autotypenumbers": "strict",
          "coloraxis": {
           "colorbar": {
            "outlinewidth": 0,
            "ticks": ""
           }
          },
          "colorscale": {
           "diverging": [
            [
             0,
             "#8e0152"
            ],
            [
             0.1,
             "#c51b7d"
            ],
            [
             0.2,
             "#de77ae"
            ],
            [
             0.3,
             "#f1b6da"
            ],
            [
             0.4,
             "#fde0ef"
            ],
            [
             0.5,
             "#f7f7f7"
            ],
            [
             0.6,
             "#e6f5d0"
            ],
            [
             0.7,
             "#b8e186"
            ],
            [
             0.8,
             "#7fbc41"
            ],
            [
             0.9,
             "#4d9221"
            ],
            [
             1,
             "#276419"
            ]
           ],
           "sequential": [
            [
             0,
             "#0d0887"
            ],
            [
             0.1111111111111111,
             "#46039f"
            ],
            [
             0.2222222222222222,
             "#7201a8"
            ],
            [
             0.3333333333333333,
             "#9c179e"
            ],
            [
             0.4444444444444444,
             "#bd3786"
            ],
            [
             0.5555555555555556,
             "#d8576b"
            ],
            [
             0.6666666666666666,
             "#ed7953"
            ],
            [
             0.7777777777777778,
             "#fb9f3a"
            ],
            [
             0.8888888888888888,
             "#fdca26"
            ],
            [
             1,
             "#f0f921"
            ]
           ],
           "sequentialminus": [
            [
             0,
             "#0d0887"
            ],
            [
             0.1111111111111111,
             "#46039f"
            ],
            [
             0.2222222222222222,
             "#7201a8"
            ],
            [
             0.3333333333333333,
             "#9c179e"
            ],
            [
             0.4444444444444444,
             "#bd3786"
            ],
            [
             0.5555555555555556,
             "#d8576b"
            ],
            [
             0.6666666666666666,
             "#ed7953"
            ],
            [
             0.7777777777777778,
             "#fb9f3a"
            ],
            [
             0.8888888888888888,
             "#fdca26"
            ],
            [
             1,
             "#f0f921"
            ]
           ]
          },
          "colorway": [
           "#636efa",
           "#EF553B",
           "#00cc96",
           "#ab63fa",
           "#FFA15A",
           "#19d3f3",
           "#FF6692",
           "#B6E880",
           "#FF97FF",
           "#FECB52"
          ],
          "font": {
           "color": "#2a3f5f"
          },
          "geo": {
           "bgcolor": "white",
           "lakecolor": "white",
           "landcolor": "#E5ECF6",
           "showlakes": true,
           "showland": true,
           "subunitcolor": "white"
          },
          "hoverlabel": {
           "align": "left"
          },
          "hovermode": "closest",
          "mapbox": {
           "style": "light"
          },
          "paper_bgcolor": "white",
          "plot_bgcolor": "#E5ECF6",
          "polar": {
           "angularaxis": {
            "gridcolor": "white",
            "linecolor": "white",
            "ticks": ""
           },
           "bgcolor": "#E5ECF6",
           "radialaxis": {
            "gridcolor": "white",
            "linecolor": "white",
            "ticks": ""
           }
          },
          "scene": {
           "xaxis": {
            "backgroundcolor": "#E5ECF6",
            "gridcolor": "white",
            "gridwidth": 2,
            "linecolor": "white",
            "showbackground": true,
            "ticks": "",
            "zerolinecolor": "white"
           },
           "yaxis": {
            "backgroundcolor": "#E5ECF6",
            "gridcolor": "white",
            "gridwidth": 2,
            "linecolor": "white",
            "showbackground": true,
            "ticks": "",
            "zerolinecolor": "white"
           },
           "zaxis": {
            "backgroundcolor": "#E5ECF6",
            "gridcolor": "white",
            "gridwidth": 2,
            "linecolor": "white",
            "showbackground": true,
            "ticks": "",
            "zerolinecolor": "white"
           }
          },
          "shapedefaults": {
           "line": {
            "color": "#2a3f5f"
           }
          },
          "ternary": {
           "aaxis": {
            "gridcolor": "white",
            "linecolor": "white",
            "ticks": ""
           },
           "baxis": {
            "gridcolor": "white",
            "linecolor": "white",
            "ticks": ""
           },
           "bgcolor": "#E5ECF6",
           "caxis": {
            "gridcolor": "white",
            "linecolor": "white",
            "ticks": ""
           }
          },
          "title": {
           "x": 0.05
          },
          "xaxis": {
           "automargin": true,
           "gridcolor": "white",
           "linecolor": "white",
           "ticks": "",
           "title": {
            "standoff": 15
           },
           "zerolinecolor": "white",
           "zerolinewidth": 2
          },
          "yaxis": {
           "automargin": true,
           "gridcolor": "white",
           "linecolor": "white",
           "ticks": "",
           "title": {
            "standoff": 15
           },
           "zerolinecolor": "white",
           "zerolinewidth": 2
          }
         }
        },
        "title": {
         "text": "Samples per categories"
        }
       }
      }
     },
     "metadata": {},
     "output_type": "display_data"
    }
   ],
   "source": [
    "samples_per_name = [vocabulary_df[vocabulary_df['Name']==n]['TrainVideoCount'].sum() for n in top_n_label_names]\n",
    "import plotly.graph_objects as go\n",
    "fig = go.Figure(data=[go.Bar(x=top_n_label_names, y=samples_per_name)])\n",
    "fig.layout['title'] = \"Samples per categories\"\n",
    "fig.show()"
   ]
  },
  {
   "attachments": {},
   "cell_type": "markdown",
   "metadata": {},
   "source": [
    "## Node conections"
   ]
  },
  {
   "cell_type": "code",
   "execution_count": 136,
   "metadata": {},
   "outputs": [
    {
     "data": {
      "image/png": "[encoded data removed]",
      "text/plain": [
       "<Figure size 432x288 with 1 Axes>"
      ]
     },
     "metadata": {},
     "output_type": "display_data"
    }
   ],
   "source": [
    "import networkx as nx\n",
    "from itertools import combinations\n",
    "\n",
    "G=nx.Graph()\n",
    "\n",
    "# Get labels\n",
    "labels = []\n",
    "for example in tf.python_io.tf_record_iterator(PATH_TF_TRAIN_FRAME_LEVEL_00):\n",
    "    tf_example = tf.train.Example.FromString(example)\n",
    "    labels.append(tf_example.features.feature['labels'].int64_list.value)\n",
    "\n",
    "# Create graph\n",
    "G.clear()\n",
    "for list_of_nodes in labels:\n",
    "    filtered_nodes = set(list_of_nodes).intersection(set(top_n_labels))  \n",
    "    for node1,node2 in list(combinations(filtered_nodes,2)): \n",
    "        node1_name = label_mapping[node1]\n",
    "        node2_name = label_mapping[node2]\n",
    "        G.add_node(node1_name)\n",
    "        G.add_node(node2_name)\n",
    "        G.add_edge(node1_name, node2_name)\n",
    "\n",
    "nx.draw_networkx(G,font_size=\"10\")"
   ]
  },
  {
   "cell_type": "code",
   "execution_count": null,
   "metadata": {},
   "outputs": [],
   "source": []
  }
 ],
 "metadata": {
  "kernelspec": {
   "display_name": "base",
   "language": "python",
   "name": "python3"
  },
  "language_info": {
   "codemirror_mode": {
    "name": "ipython",
    "version": 3
   },
   "file_extension": ".py",
   "mimetype": "text/x-python",
   "name": "python",
   "nbconvert_exporter": "python",
   "pygments_lexer": "ipython3",
   "version": "3.8.5"
  },
  "orig_nbformat": 4,
  "vscode": {
   "interpreter": {
    "hash": "88de8a03d390c9821a705f8812eeaeda47efe29e530260f109fd5a47346b85c0"
   }
  }
 },
 "nbformat": 4,
 "nbformat_minor": 2
}
